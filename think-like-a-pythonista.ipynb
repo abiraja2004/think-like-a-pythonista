{
 "cells": [
  {
   "cell_type": "markdown",
   "metadata": {
    "slideshow": {
     "slide_type": "slide"
    }
   },
   "source": [
    "# Think like a Pythonista\n",
    "\n",
    "## Luciano Ramalho, principal consultant @ThoughtWorks\n",
    "## [@standupdev](https://twitter.com/standupdev) and [@ramalhoorg](https://twitter.com/ramalhoorg) on Twitter"
   ]
  },
  {
   "cell_type": "code",
   "execution_count": 1,
   "metadata": {},
   "outputs": [
    {
     "data": {
      "text/plain": [
       "10715086071862673209484250490600018105614048117055336074437503883703510511249361224931983788156958581275946729175531468251871452856923140435984577574698574803934567774824230985421074605062371141877954182153046474983581941267398767559165543946077062914571196477686542167660429831652624386837205668069376"
      ]
     },
     "execution_count": 1,
     "metadata": {},
     "output_type": "execute_result"
    }
   ],
   "source": [
    "2**1000"
   ]
  },
  {
   "cell_type": "markdown",
   "metadata": {
    "slideshow": {
     "slide_type": "slide"
    }
   },
   "source": [
    "## A class to represent a playing card"
   ]
  },
  {
   "cell_type": "code",
   "execution_count": 2,
   "metadata": {
    "collapsed": true,
    "slideshow": {
     "slide_type": "fragment"
    }
   },
   "outputs": [],
   "source": [
    "from collections import namedtuple\n",
    "\n",
    "Card = namedtuple('Card', 'rank suit')"
   ]
  },
  {
   "cell_type": "code",
   "execution_count": 3,
   "metadata": {
    "slideshow": {
     "slide_type": "fragment"
    }
   },
   "outputs": [
    {
     "data": {
      "text/plain": [
       "Card(rank='7', suit='diamonds')"
      ]
     },
     "execution_count": 3,
     "metadata": {},
     "output_type": "execute_result"
    }
   ],
   "source": [
    "beer_card = Card('7', 'diamonds')\n",
    "beer_card"
   ]
  },
  {
   "cell_type": "code",
   "execution_count": 4,
   "metadata": {
    "slideshow": {
     "slide_type": "fragment"
    }
   },
   "outputs": [
    {
     "data": {
      "text/plain": [
       "('7', 'diamonds')"
      ]
     },
     "execution_count": 4,
     "metadata": {},
     "output_type": "execute_result"
    }
   ],
   "source": [
    "rank, suit = beer_card\n",
    "rank, suit"
   ]
  },
  {
   "cell_type": "code",
   "execution_count": 5,
   "metadata": {
    "slideshow": {
     "slide_type": "fragment"
    }
   },
   "outputs": [
    {
     "data": {
      "text/plain": [
       "'diamonds'"
      ]
     },
     "execution_count": 5,
     "metadata": {},
     "output_type": "execute_result"
    }
   ],
   "source": [
    "beer_card.suit"
   ]
  },
  {
   "cell_type": "code",
   "execution_count": 6,
   "metadata": {
    "slideshow": {
     "slide_type": "fragment"
    }
   },
   "outputs": [
    {
     "data": {
      "text/plain": [
       "'7'"
      ]
     },
     "execution_count": 6,
     "metadata": {},
     "output_type": "execute_result"
    }
   ],
   "source": [
    "beer_card.rank"
   ]
  },
  {
   "cell_type": "markdown",
   "metadata": {
    "slideshow": {
     "slide_type": "slide"
    }
   },
   "source": [
    "## Suits and ranks"
   ]
  },
  {
   "cell_type": "code",
   "execution_count": 7,
   "metadata": {
    "slideshow": {
     "slide_type": "fragment"
    }
   },
   "outputs": [
    {
     "data": {
      "text/plain": [
       "['clubs', 'diamonds', 'spades', 'hearts']"
      ]
     },
     "execution_count": 7,
     "metadata": {},
     "output_type": "execute_result"
    }
   ],
   "source": [
    "SUITS = 'clubs diamonds spades hearts'.split()\n",
    "SUITS"
   ]
  },
  {
   "cell_type": "code",
   "execution_count": 8,
   "metadata": {
    "slideshow": {
     "slide_type": "fragment"
    }
   },
   "outputs": [
    {
     "data": {
      "text/plain": [
       "['2', '3', '4', '5', '6', '7', '8', '9', '10', 'J', 'Q', 'K', 'A']"
      ]
     },
     "execution_count": 8,
     "metadata": {},
     "output_type": "execute_result"
    }
   ],
   "source": [
    "RANKS = [str(n) for n in range(2, 11)] + list('JQKA')\n",
    "RANKS"
   ]
  },
  {
   "cell_type": "code",
   "execution_count": 9,
   "metadata": {
    "slideshow": {
     "slide_type": "fragment"
    }
   },
   "outputs": [
    {
     "data": {
      "text/plain": [
       "52"
      ]
     },
     "execution_count": 9,
     "metadata": {},
     "output_type": "execute_result"
    }
   ],
   "source": [
    "CARDS = [Card(r, s) for s in SUITS for r in RANKS]\n",
    "len(CARDS)"
   ]
  },
  {
   "cell_type": "code",
   "execution_count": 10,
   "metadata": {
    "slideshow": {
     "slide_type": "fragment"
    }
   },
   "outputs": [
    {
     "data": {
      "text/plain": [
       "[Card(rank='2', suit='clubs'),\n",
       " Card(rank='3', suit='clubs'),\n",
       " Card(rank='4', suit='clubs'),\n",
       " Card(rank='5', suit='clubs'),\n",
       " Card(rank='6', suit='clubs'),\n",
       " Card(rank='7', suit='clubs'),\n",
       " Card(rank='8', suit='clubs'),\n",
       " Card(rank='9', suit='clubs'),\n",
       " Card(rank='10', suit='clubs'),\n",
       " Card(rank='J', suit='clubs'),\n",
       " Card(rank='Q', suit='clubs'),\n",
       " Card(rank='K', suit='clubs'),\n",
       " Card(rank='A', suit='clubs'),\n",
       " Card(rank='2', suit='diamonds'),\n",
       " Card(rank='3', suit='diamonds'),\n",
       " Card(rank='4', suit='diamonds'),\n",
       " Card(rank='5', suit='diamonds'),\n",
       " Card(rank='6', suit='diamonds'),\n",
       " Card(rank='7', suit='diamonds'),\n",
       " Card(rank='8', suit='diamonds'),\n",
       " Card(rank='9', suit='diamonds'),\n",
       " Card(rank='10', suit='diamonds'),\n",
       " Card(rank='J', suit='diamonds'),\n",
       " Card(rank='Q', suit='diamonds'),\n",
       " Card(rank='K', suit='diamonds'),\n",
       " Card(rank='A', suit='diamonds'),\n",
       " Card(rank='2', suit='spades'),\n",
       " Card(rank='3', suit='spades'),\n",
       " Card(rank='4', suit='spades'),\n",
       " Card(rank='5', suit='spades'),\n",
       " Card(rank='6', suit='spades'),\n",
       " Card(rank='7', suit='spades'),\n",
       " Card(rank='8', suit='spades'),\n",
       " Card(rank='9', suit='spades'),\n",
       " Card(rank='10', suit='spades'),\n",
       " Card(rank='J', suit='spades'),\n",
       " Card(rank='Q', suit='spades'),\n",
       " Card(rank='K', suit='spades'),\n",
       " Card(rank='A', suit='spades'),\n",
       " Card(rank='2', suit='hearts'),\n",
       " Card(rank='3', suit='hearts'),\n",
       " Card(rank='4', suit='hearts'),\n",
       " Card(rank='5', suit='hearts'),\n",
       " Card(rank='6', suit='hearts'),\n",
       " Card(rank='7', suit='hearts'),\n",
       " Card(rank='8', suit='hearts'),\n",
       " Card(rank='9', suit='hearts'),\n",
       " Card(rank='10', suit='hearts'),\n",
       " Card(rank='J', suit='hearts'),\n",
       " Card(rank='Q', suit='hearts'),\n",
       " Card(rank='K', suit='hearts'),\n",
       " Card(rank='A', suit='hearts')]"
      ]
     },
     "execution_count": 10,
     "metadata": {},
     "output_type": "execute_result"
    }
   ],
   "source": [
    "CARDS"
   ]
  },
  {
   "cell_type": "markdown",
   "metadata": {
    "slideshow": {
     "slide_type": "slide"
    }
   },
   "source": [
    "## The Deck class"
   ]
  },
  {
   "cell_type": "code",
   "execution_count": 11,
   "metadata": {
    "collapsed": true,
    "slideshow": {
     "slide_type": "fragment"
    }
   },
   "outputs": [],
   "source": [
    "class Deck:\n",
    "    def __init__(self):\n",
    "        self._cards = list(CARDS)\n",
    "        \n",
    "    def __len__(self):\n",
    "        return len(self._cards)\n",
    "    \n",
    "    def __getitem__(self, i):\n",
    "        return self._cards[i]"
   ]
  },
  {
   "cell_type": "code",
   "execution_count": 12,
   "metadata": {
    "slideshow": {
     "slide_type": "fragment"
    }
   },
   "outputs": [
    {
     "data": {
      "text/plain": [
       "52"
      ]
     },
     "execution_count": 12,
     "metadata": {},
     "output_type": "execute_result"
    }
   ],
   "source": [
    "deck = Deck()\n",
    "len(deck)"
   ]
  },
  {
   "cell_type": "code",
   "execution_count": 13,
   "metadata": {
    "slideshow": {
     "slide_type": "fragment"
    }
   },
   "outputs": [
    {
     "data": {
      "text/plain": [
       "Card(rank='2', suit='clubs')"
      ]
     },
     "execution_count": 13,
     "metadata": {},
     "output_type": "execute_result"
    }
   ],
   "source": [
    "deck[0]"
   ]
  },
  {
   "cell_type": "code",
   "execution_count": 14,
   "metadata": {
    "slideshow": {
     "slide_type": "fragment"
    }
   },
   "outputs": [
    {
     "data": {
      "text/plain": [
       "Card(rank='A', suit='hearts')"
      ]
     },
     "execution_count": 14,
     "metadata": {},
     "output_type": "execute_result"
    }
   ],
   "source": [
    "deck[-1]"
   ]
  },
  {
   "cell_type": "code",
   "execution_count": 15,
   "metadata": {
    "slideshow": {
     "slide_type": "fragment"
    }
   },
   "outputs": [
    {
     "data": {
      "text/plain": [
       "[Card(rank='2', suit='clubs'),\n",
       " Card(rank='3', suit='clubs'),\n",
       " Card(rank='4', suit='clubs'),\n",
       " Card(rank='5', suit='clubs'),\n",
       " Card(rank='6', suit='clubs')]"
      ]
     },
     "execution_count": 15,
     "metadata": {},
     "output_type": "execute_result"
    }
   ],
   "source": [
    "deck[:5]"
   ]
  },
  {
   "cell_type": "markdown",
   "metadata": {
    "slideshow": {
     "slide_type": "slide"
    }
   },
   "source": [
    "## Iteration"
   ]
  },
  {
   "cell_type": "code",
   "execution_count": 16,
   "metadata": {
    "slideshow": {
     "slide_type": "fragment"
    }
   },
   "outputs": [
    {
     "name": "stdout",
     "output_type": "stream",
     "text": [
      "Card(rank='2', suit='clubs')\n",
      "Card(rank='3', suit='clubs')\n",
      "Card(rank='4', suit='clubs')\n",
      "Card(rank='5', suit='clubs')\n",
      "Card(rank='6', suit='clubs')\n",
      "Card(rank='7', suit='clubs')\n",
      "Card(rank='8', suit='clubs')\n",
      "Card(rank='9', suit='clubs')\n",
      "Card(rank='10', suit='clubs')\n",
      "Card(rank='J', suit='clubs')\n",
      "Card(rank='Q', suit='clubs')\n",
      "Card(rank='K', suit='clubs')\n",
      "Card(rank='A', suit='clubs')\n",
      "Card(rank='2', suit='diamonds')\n",
      "Card(rank='3', suit='diamonds')\n",
      "Card(rank='4', suit='diamonds')\n",
      "Card(rank='5', suit='diamonds')\n",
      "Card(rank='6', suit='diamonds')\n",
      "Card(rank='7', suit='diamonds')\n",
      "Card(rank='8', suit='diamonds')\n",
      "Card(rank='9', suit='diamonds')\n",
      "Card(rank='10', suit='diamonds')\n",
      "Card(rank='J', suit='diamonds')\n",
      "Card(rank='Q', suit='diamonds')\n",
      "Card(rank='K', suit='diamonds')\n",
      "Card(rank='A', suit='diamonds')\n",
      "Card(rank='2', suit='spades')\n",
      "Card(rank='3', suit='spades')\n",
      "Card(rank='4', suit='spades')\n",
      "Card(rank='5', suit='spades')\n",
      "Card(rank='6', suit='spades')\n",
      "Card(rank='7', suit='spades')\n",
      "Card(rank='8', suit='spades')\n",
      "Card(rank='9', suit='spades')\n",
      "Card(rank='10', suit='spades')\n",
      "Card(rank='J', suit='spades')\n",
      "Card(rank='Q', suit='spades')\n",
      "Card(rank='K', suit='spades')\n",
      "Card(rank='A', suit='spades')\n",
      "Card(rank='2', suit='hearts')\n",
      "Card(rank='3', suit='hearts')\n",
      "Card(rank='4', suit='hearts')\n",
      "Card(rank='5', suit='hearts')\n",
      "Card(rank='6', suit='hearts')\n",
      "Card(rank='7', suit='hearts')\n",
      "Card(rank='8', suit='hearts')\n",
      "Card(rank='9', suit='hearts')\n",
      "Card(rank='10', suit='hearts')\n",
      "Card(rank='J', suit='hearts')\n",
      "Card(rank='Q', suit='hearts')\n",
      "Card(rank='K', suit='hearts')\n",
      "Card(rank='A', suit='hearts')\n"
     ]
    }
   ],
   "source": [
    "for card in deck:\n",
    "    print(card)"
   ]
  },
  {
   "cell_type": "code",
   "execution_count": 17,
   "metadata": {
    "slideshow": {
     "slide_type": "fragment"
    }
   },
   "outputs": [
    {
     "data": {
      "text/plain": [
       "<iterator at 0x11127bbe0>"
      ]
     },
     "execution_count": 17,
     "metadata": {},
     "output_type": "execute_result"
    }
   ],
   "source": [
    "it = iter(deck)\n",
    "it"
   ]
  },
  {
   "cell_type": "code",
   "execution_count": 18,
   "metadata": {
    "slideshow": {
     "slide_type": "fragment"
    }
   },
   "outputs": [
    {
     "data": {
      "text/plain": [
       "Card(rank='2', suit='clubs')"
      ]
     },
     "execution_count": 18,
     "metadata": {},
     "output_type": "execute_result"
    }
   ],
   "source": [
    "next(it)"
   ]
  },
  {
   "cell_type": "markdown",
   "metadata": {
    "slideshow": {
     "slide_type": "slide"
    }
   },
   "source": [
    "## Sorting"
   ]
  },
  {
   "cell_type": "code",
   "execution_count": 19,
   "metadata": {
    "collapsed": true,
    "slideshow": {
     "slide_type": "fragment"
    }
   },
   "outputs": [],
   "source": [
    "SPADES_HIGH = sorted(SUITS)\n",
    "\n",
    "def index(card):\n",
    "    \"\"\"Card position in spades high ordering\"\"\"\n",
    "    rank_value = RANKS.index(card.rank)\n",
    "    return rank_value * len(SPADES_HIGH) + SPADES_HIGH.index(card.suit)"
   ]
  },
  {
   "cell_type": "code",
   "execution_count": 20,
   "metadata": {
    "slideshow": {
     "slide_type": "fragment"
    }
   },
   "outputs": [
    {
     "data": {
      "text/plain": [
       "0"
      ]
     },
     "execution_count": 20,
     "metadata": {},
     "output_type": "execute_result"
    }
   ],
   "source": [
    "index(Card('2', 'clubs'))"
   ]
  },
  {
   "cell_type": "code",
   "execution_count": 21,
   "metadata": {
    "slideshow": {
     "slide_type": "fragment"
    }
   },
   "outputs": [
    {
     "data": {
      "text/plain": [
       "51"
      ]
     },
     "execution_count": 21,
     "metadata": {},
     "output_type": "execute_result"
    }
   ],
   "source": [
    "index(Card('A', 'spades'))"
   ]
  },
  {
   "cell_type": "code",
   "execution_count": 22,
   "metadata": {
    "slideshow": {
     "slide_type": "fragment"
    }
   },
   "outputs": [
    {
     "data": {
      "text/plain": [
       "[Card(rank='2', suit='clubs'),\n",
       " Card(rank='2', suit='diamonds'),\n",
       " Card(rank='2', suit='hearts'),\n",
       " Card(rank='2', suit='spades'),\n",
       " Card(rank='3', suit='clubs'),\n",
       " Card(rank='3', suit='diamonds'),\n",
       " Card(rank='3', suit='hearts'),\n",
       " Card(rank='3', suit='spades'),\n",
       " Card(rank='4', suit='clubs'),\n",
       " Card(rank='4', suit='diamonds'),\n",
       " Card(rank='4', suit='hearts'),\n",
       " Card(rank='4', suit='spades'),\n",
       " Card(rank='5', suit='clubs'),\n",
       " Card(rank='5', suit='diamonds'),\n",
       " Card(rank='5', suit='hearts'),\n",
       " Card(rank='5', suit='spades'),\n",
       " Card(rank='6', suit='clubs'),\n",
       " Card(rank='6', suit='diamonds'),\n",
       " Card(rank='6', suit='hearts'),\n",
       " Card(rank='6', suit='spades'),\n",
       " Card(rank='7', suit='clubs'),\n",
       " Card(rank='7', suit='diamonds'),\n",
       " Card(rank='7', suit='hearts'),\n",
       " Card(rank='7', suit='spades'),\n",
       " Card(rank='8', suit='clubs'),\n",
       " Card(rank='8', suit='diamonds'),\n",
       " Card(rank='8', suit='hearts'),\n",
       " Card(rank='8', suit='spades'),\n",
       " Card(rank='9', suit='clubs'),\n",
       " Card(rank='9', suit='diamonds'),\n",
       " Card(rank='9', suit='hearts'),\n",
       " Card(rank='9', suit='spades'),\n",
       " Card(rank='10', suit='clubs'),\n",
       " Card(rank='10', suit='diamonds'),\n",
       " Card(rank='10', suit='hearts'),\n",
       " Card(rank='10', suit='spades'),\n",
       " Card(rank='J', suit='clubs'),\n",
       " Card(rank='J', suit='diamonds'),\n",
       " Card(rank='J', suit='hearts'),\n",
       " Card(rank='J', suit='spades'),\n",
       " Card(rank='Q', suit='clubs'),\n",
       " Card(rank='Q', suit='diamonds'),\n",
       " Card(rank='Q', suit='hearts'),\n",
       " Card(rank='Q', suit='spades'),\n",
       " Card(rank='K', suit='clubs'),\n",
       " Card(rank='K', suit='diamonds'),\n",
       " Card(rank='K', suit='hearts'),\n",
       " Card(rank='K', suit='spades'),\n",
       " Card(rank='A', suit='clubs'),\n",
       " Card(rank='A', suit='diamonds'),\n",
       " Card(rank='A', suit='hearts'),\n",
       " Card(rank='A', suit='spades')]"
      ]
     },
     "execution_count": 22,
     "metadata": {},
     "output_type": "execute_result"
    }
   ],
   "source": [
    "sorted(deck, key=index)"
   ]
  },
  {
   "cell_type": "markdown",
   "metadata": {
    "slideshow": {
     "slide_type": "slide"
    }
   },
   "source": [
    "## Randomizing"
   ]
  },
  {
   "cell_type": "code",
   "execution_count": 23,
   "metadata": {},
   "outputs": [
    {
     "data": {
      "text/plain": [
       "'C'"
      ]
     },
     "execution_count": 23,
     "metadata": {},
     "output_type": "execute_result"
    }
   ],
   "source": [
    "import random\n",
    "random.choice('ABCDE')"
   ]
  },
  {
   "cell_type": "code",
   "execution_count": 24,
   "metadata": {
    "slideshow": {
     "slide_type": "fragment"
    }
   },
   "outputs": [
    {
     "data": {
      "text/plain": [
       "Card(rank='7', suit='clubs')"
      ]
     },
     "execution_count": 24,
     "metadata": {},
     "output_type": "execute_result"
    }
   ],
   "source": [
    "random.choice(deck)"
   ]
  },
  {
   "cell_type": "code",
   "execution_count": 25,
   "metadata": {},
   "outputs": [
    {
     "data": {
      "text/plain": [
       "[1, 7, 16, 5, 0, 18, 17, 3, 12, 11, 4, 19, 14, 9, 6, 10, 2, 15, 8, 13]"
      ]
     },
     "execution_count": 25,
     "metadata": {},
     "output_type": "execute_result"
    }
   ],
   "source": [
    "l = list(range(20))\n",
    "random.shuffle(l)\n",
    "l"
   ]
  },
  {
   "cell_type": "code",
   "execution_count": 26,
   "metadata": {
    "slideshow": {
     "slide_type": "fragment"
    }
   },
   "outputs": [
    {
     "name": "stdout",
     "output_type": "stream",
     "text": [
      "TypeError(\"'Deck' object does not support item assignment\",)\n"
     ]
    }
   ],
   "source": [
    "try:\n",
    "    random.shuffle(deck)\n",
    "except TypeError as e:\n",
    "    print(repr(e))"
   ]
  },
  {
   "cell_type": "markdown",
   "metadata": {},
   "source": [
    "## Monkey-patching Deck to support item assignment"
   ]
  },
  {
   "cell_type": "code",
   "execution_count": 27,
   "metadata": {
    "collapsed": true
   },
   "outputs": [],
   "source": [
    "def put(deck, position, card):\n",
    "    deck._cards[position] = card\n",
    "        \n",
    "Deck.__setitem__ = put"
   ]
  },
  {
   "cell_type": "code",
   "execution_count": 28,
   "metadata": {
    "slideshow": {
     "slide_type": "fragment"
    }
   },
   "outputs": [
    {
     "data": {
      "text/plain": [
       "[Card(rank='5', suit='diamonds'),\n",
       " Card(rank='9', suit='hearts'),\n",
       " Card(rank='3', suit='hearts'),\n",
       " Card(rank='6', suit='diamonds'),\n",
       " Card(rank='10', suit='diamonds')]"
      ]
     },
     "execution_count": 28,
     "metadata": {},
     "output_type": "execute_result"
    }
   ],
   "source": [
    "random.shuffle(deck)\n",
    "deck[:5]"
   ]
  },
  {
   "cell_type": "markdown",
   "metadata": {
    "collapsed": true
   },
   "source": [
    "## Bonus: operator overloading"
   ]
  },
  {
   "cell_type": "code",
   "execution_count": 29,
   "metadata": {
    "collapsed": true
   },
   "outputs": [],
   "source": [
    "from itertools import chain\n",
    "\n",
    "class Deck:\n",
    "    def __init__(self, cards=CARDS):\n",
    "        self._cards = list(cards)\n",
    "        \n",
    "    def __len__(self):\n",
    "        return len(self._cards)\n",
    "    \n",
    "    def __getitem__(self, i):\n",
    "        if isinstance(i, slice):\n",
    "            return Deck(self._cards[i])\n",
    "        return self._cards[i]\n",
    "    \n",
    "    def __setitem__(self, i, card):\n",
    "        self._cards[i] = card\n",
    "        \n",
    "    def __add__(self, other):\n",
    "        return Deck(chain(self._cards, other))\n",
    "    \n",
    "    def deal(self, num_players):\n",
    "        return [self[i::num_players] for i in range(num_players)]\n",
    "                "
   ]
  },
  {
   "cell_type": "code",
   "execution_count": 30,
   "metadata": {
    "collapsed": true
   },
   "outputs": [],
   "source": [
    "#chain?\n",
    "deck = Deck()"
   ]
  },
  {
   "cell_type": "code",
   "execution_count": 31,
   "metadata": {},
   "outputs": [
    {
     "data": {
      "text/plain": [
       "<__main__.Deck at 0x111284748>"
      ]
     },
     "execution_count": 31,
     "metadata": {},
     "output_type": "execute_result"
    }
   ],
   "source": [
    "top5 = deck[:5]\n",
    "top5"
   ]
  },
  {
   "cell_type": "code",
   "execution_count": 32,
   "metadata": {},
   "outputs": [
    {
     "name": "stdout",
     "output_type": "stream",
     "text": [
      "Card(rank='2', suit='clubs')\n",
      "Card(rank='3', suit='clubs')\n",
      "Card(rank='4', suit='clubs')\n",
      "Card(rank='5', suit='clubs')\n",
      "Card(rank='6', suit='clubs')\n"
     ]
    }
   ],
   "source": [
    "for card in top5:\n",
    "    print(card)"
   ]
  },
  {
   "cell_type": "code",
   "execution_count": 33,
   "metadata": {},
   "outputs": [
    {
     "name": "stdout",
     "output_type": "stream",
     "text": [
      "Card(rank='10', suit='hearts')\n",
      "Card(rank='J', suit='hearts')\n",
      "Card(rank='Q', suit='hearts')\n",
      "Card(rank='K', suit='hearts')\n",
      "Card(rank='A', suit='hearts')\n"
     ]
    }
   ],
   "source": [
    "bottom5 = deck[-5:]\n",
    "for card in bottom5:\n",
    "    print(card)"
   ]
  },
  {
   "cell_type": "code",
   "execution_count": 34,
   "metadata": {},
   "outputs": [
    {
     "data": {
      "text/plain": [
       "<__main__.Deck at 0x11127b908>"
      ]
     },
     "execution_count": 34,
     "metadata": {},
     "output_type": "execute_result"
    }
   ],
   "source": [
    "top5 + bottom5"
   ]
  },
  {
   "cell_type": "code",
   "execution_count": 35,
   "metadata": {},
   "outputs": [
    {
     "name": "stdout",
     "output_type": "stream",
     "text": [
      "Card(rank='2', suit='clubs')\n",
      "Card(rank='3', suit='clubs')\n",
      "Card(rank='4', suit='clubs')\n",
      "Card(rank='5', suit='clubs')\n",
      "Card(rank='6', suit='clubs')\n",
      "Card(rank='10', suit='hearts')\n",
      "Card(rank='J', suit='hearts')\n",
      "Card(rank='Q', suit='hearts')\n",
      "Card(rank='K', suit='hearts')\n",
      "Card(rank='A', suit='hearts')\n"
     ]
    }
   ],
   "source": [
    "for card in top5 + bottom5:\n",
    "    print(card)"
   ]
  },
  {
   "cell_type": "code",
   "execution_count": 36,
   "metadata": {
    "collapsed": true
   },
   "outputs": [],
   "source": [
    "random.shuffle(deck)\n",
    "a, b, c, d = deck.deal(4)"
   ]
  },
  {
   "cell_type": "code",
   "execution_count": 37,
   "metadata": {},
   "outputs": [
    {
     "data": {
      "text/plain": [
       "(13, 13)"
      ]
     },
     "execution_count": 37,
     "metadata": {},
     "output_type": "execute_result"
    }
   ],
   "source": [
    "len(a), len(b)"
   ]
  },
  {
   "cell_type": "code",
   "execution_count": 38,
   "metadata": {},
   "outputs": [
    {
     "name": "stdout",
     "output_type": "stream",
     "text": [
      "Card(rank='9', suit='hearts')\n",
      "Card(rank='3', suit='diamonds')\n",
      "Card(rank='4', suit='clubs')\n",
      "Card(rank='8', suit='clubs')\n",
      "Card(rank='A', suit='spades')\n",
      "Card(rank='A', suit='clubs')\n",
      "Card(rank='Q', suit='spades')\n",
      "Card(rank='10', suit='diamonds')\n",
      "Card(rank='3', suit='hearts')\n",
      "Card(rank='10', suit='hearts')\n",
      "Card(rank='3', suit='spades')\n",
      "Card(rank='10', suit='spades')\n",
      "Card(rank='8', suit='spades')\n"
     ]
    }
   ],
   "source": [
    "for card in c:\n",
    "    print(card)"
   ]
  },
  {
   "cell_type": "markdown",
   "metadata": {},
   "source": [
    "## And now, for something completely different..."
   ]
  },
  {
   "cell_type": "markdown",
   "metadata": {},
   "source": [
    "The beauty of operator overloading for analytics."
   ]
  },
  {
   "cell_type": "code",
   "execution_count": 39,
   "metadata": {},
   "outputs": [
    {
     "data": {
      "image/png": "[encoded data removed]",
      "text/plain": [
       "<matplotlib.figure.Figure at 0x11753aa20>"
      ]
     },
     "metadata": {},
     "output_type": "display_data"
    }
   ],
   "source": [
    "import numpy as np\n",
    "import matplotlib.pyplot as plt\n",
    "\n",
    "v0 = 5\n",
    "g = 9.81\n",
    "t = np.linspace(0, 1, 1001)\n",
    "\n",
    "y = v0 * t - g * t**2 / 2\n",
    "\n",
    "plt.plot(t, y)\n",
    "plt.xlabel('t (s)')\n",
    "plt.ylabel('y (m)')\n",
    "plt.show()"
   ]
  }
 ],
 "metadata": {
  "kernelspec": {
   "display_name": "Python 3",
   "language": "python",
   "name": "python3"
  },
  "language_info": {
   "codemirror_mode": {
    "name": "ipython",
    "version": 3
   },
   "file_extension": ".py",
   "mimetype": "text/x-python",
   "name": "python",
   "nbconvert_exporter": "python",
   "pygments_lexer": "ipython3",
   "version": "3.6.1"
  }
 },
 "nbformat": 4,
 "nbformat_minor": 2
}
