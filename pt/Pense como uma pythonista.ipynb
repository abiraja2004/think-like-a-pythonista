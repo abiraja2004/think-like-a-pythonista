{
 "cells": [
  {
   "cell_type": "markdown",
   "metadata": {},
   "source": [
    "# Pense como uma pythonista"
   ]
  },
  {
   "cell_type": "code",
   "execution_count": 1,
   "metadata": {},
   "outputs": [
    {
     "data": {
      "text/plain": [
       "Carta(naipe='paus', valor='4')"
      ]
     },
     "execution_count": 1,
     "metadata": {},
     "output_type": "execute_result"
    }
   ],
   "source": [
    "from collections import namedtuple\n",
    "\n",
    "Carta = namedtuple('Carta', 'naipe valor')\n",
    "\n",
    "zape = Carta('paus', '4')\n",
    "zape"
   ]
  },
  {
   "cell_type": "code",
   "execution_count": 2,
   "metadata": {},
   "outputs": [
    {
     "data": {
      "text/plain": [
       "'paus'"
      ]
     },
     "execution_count": 2,
     "metadata": {},
     "output_type": "execute_result"
    }
   ],
   "source": [
    "zape.naipe"
   ]
  },
  {
   "cell_type": "code",
   "execution_count": 3,
   "metadata": {},
   "outputs": [
    {
     "data": {
      "text/plain": [
       "'4'"
      ]
     },
     "execution_count": 3,
     "metadata": {},
     "output_type": "execute_result"
    }
   ],
   "source": [
    "zape[1]"
   ]
  },
  {
   "cell_type": "code",
   "execution_count": 4,
   "metadata": {},
   "outputs": [
    {
     "data": {
      "text/plain": [
       "'paus'"
      ]
     },
     "execution_count": 4,
     "metadata": {},
     "output_type": "execute_result"
    }
   ],
   "source": [
    "naipe, valor = zape\n",
    "naipe"
   ]
  },
  {
   "cell_type": "code",
   "execution_count": 5,
   "metadata": {
    "collapsed": true
   },
   "outputs": [],
   "source": [
    "NAIPES = 'ouros copas paus espadas'.split()\n",
    "VALORES = [str(n) for n in range(2, 11)] + list('JQKA')"
   ]
  },
  {
   "cell_type": "code",
   "execution_count": 6,
   "metadata": {},
   "outputs": [
    {
     "data": {
      "text/plain": [
       "['2', '3', '4', '5', '6', '7', '8', '9', '10', 'J', 'Q', 'K', 'A']"
      ]
     },
     "execution_count": 6,
     "metadata": {},
     "output_type": "execute_result"
    }
   ],
   "source": [
    "VALORES"
   ]
  },
  {
   "cell_type": "code",
   "execution_count": 7,
   "metadata": {},
   "outputs": [
    {
     "data": {
      "text/plain": [
       "[Carta(naipe='ouros', valor='2'),\n",
       " Carta(naipe='ouros', valor='3'),\n",
       " Carta(naipe='ouros', valor='4'),\n",
       " Carta(naipe='ouros', valor='5'),\n",
       " Carta(naipe='ouros', valor='6')]"
      ]
     },
     "execution_count": 7,
     "metadata": {},
     "output_type": "execute_result"
    }
   ],
   "source": [
    "cartas = [Carta(n, v) for n in NAIPES for v in VALORES]\n",
    "cartas[:5]"
   ]
  },
  {
   "cell_type": "code",
   "execution_count": 8,
   "metadata": {
    "collapsed": true
   },
   "outputs": [],
   "source": [
    "class Baralho:\n",
    "    def __init__(self):\n",
    "        self._cartas = [Carta(n, v) for n in NAIPES for v in VALORES]\n",
    "        \n",
    "    def __len__(self):\n",
    "        return len(self._cartas)\n",
    "    \n",
    "    def __getitem__(self, indice):\n",
    "        return self._cartas[indice]\n",
    "    \n",
    "    def __setitem__(self, indice, item):\n",
    "        self._cartas[indice] = item"
   ]
  },
  {
   "cell_type": "code",
   "execution_count": 9,
   "metadata": {},
   "outputs": [
    {
     "data": {
      "text/plain": [
       "<__main__.Baralho at 0x10e3cccc0>"
      ]
     },
     "execution_count": 9,
     "metadata": {},
     "output_type": "execute_result"
    }
   ],
   "source": [
    "b = Baralho()\n",
    "b"
   ]
  },
  {
   "cell_type": "code",
   "execution_count": 10,
   "metadata": {},
   "outputs": [
    {
     "data": {
      "text/plain": [
       "52"
      ]
     },
     "execution_count": 10,
     "metadata": {},
     "output_type": "execute_result"
    }
   ],
   "source": [
    "len(b)"
   ]
  },
  {
   "cell_type": "code",
   "execution_count": 11,
   "metadata": {},
   "outputs": [
    {
     "data": {
      "text/plain": [
       "Carta(naipe='ouros', valor='2')"
      ]
     },
     "execution_count": 11,
     "metadata": {},
     "output_type": "execute_result"
    }
   ],
   "source": [
    "b[0]"
   ]
  },
  {
   "cell_type": "code",
   "execution_count": 12,
   "metadata": {},
   "outputs": [
    {
     "data": {
      "text/plain": [
       "Carta(naipe='espadas', valor='A')"
      ]
     },
     "execution_count": 12,
     "metadata": {},
     "output_type": "execute_result"
    }
   ],
   "source": [
    "b[-1]"
   ]
  },
  {
   "cell_type": "code",
   "execution_count": 13,
   "metadata": {},
   "outputs": [
    {
     "data": {
      "text/plain": [
       "[Carta(naipe='ouros', valor='2'),\n",
       " Carta(naipe='ouros', valor='3'),\n",
       " Carta(naipe='ouros', valor='4'),\n",
       " Carta(naipe='ouros', valor='5'),\n",
       " Carta(naipe='ouros', valor='6')]"
      ]
     },
     "execution_count": 13,
     "metadata": {},
     "output_type": "execute_result"
    }
   ],
   "source": [
    "b[:5]"
   ]
  },
  {
   "cell_type": "code",
   "execution_count": 14,
   "metadata": {},
   "outputs": [
    {
     "name": "stdout",
     "output_type": "stream",
     "text": [
      "Carta(naipe='ouros', valor='2')\n",
      "Carta(naipe='ouros', valor='3')\n",
      "Carta(naipe='ouros', valor='4')\n",
      "Carta(naipe='ouros', valor='5')\n",
      "Carta(naipe='ouros', valor='6')\n",
      "Carta(naipe='ouros', valor='7')\n",
      "Carta(naipe='ouros', valor='8')\n",
      "Carta(naipe='ouros', valor='9')\n",
      "Carta(naipe='ouros', valor='10')\n",
      "Carta(naipe='ouros', valor='J')\n",
      "Carta(naipe='ouros', valor='Q')\n",
      "Carta(naipe='ouros', valor='K')\n",
      "Carta(naipe='ouros', valor='A')\n",
      "Carta(naipe='copas', valor='2')\n",
      "Carta(naipe='copas', valor='3')\n",
      "Carta(naipe='copas', valor='4')\n",
      "Carta(naipe='copas', valor='5')\n",
      "Carta(naipe='copas', valor='6')\n",
      "Carta(naipe='copas', valor='7')\n",
      "Carta(naipe='copas', valor='8')\n",
      "Carta(naipe='copas', valor='9')\n",
      "Carta(naipe='copas', valor='10')\n",
      "Carta(naipe='copas', valor='J')\n",
      "Carta(naipe='copas', valor='Q')\n",
      "Carta(naipe='copas', valor='K')\n",
      "Carta(naipe='copas', valor='A')\n",
      "Carta(naipe='paus', valor='2')\n",
      "Carta(naipe='paus', valor='3')\n",
      "Carta(naipe='paus', valor='4')\n",
      "Carta(naipe='paus', valor='5')\n",
      "Carta(naipe='paus', valor='6')\n",
      "Carta(naipe='paus', valor='7')\n",
      "Carta(naipe='paus', valor='8')\n",
      "Carta(naipe='paus', valor='9')\n",
      "Carta(naipe='paus', valor='10')\n",
      "Carta(naipe='paus', valor='J')\n",
      "Carta(naipe='paus', valor='Q')\n",
      "Carta(naipe='paus', valor='K')\n",
      "Carta(naipe='paus', valor='A')\n",
      "Carta(naipe='espadas', valor='2')\n",
      "Carta(naipe='espadas', valor='3')\n",
      "Carta(naipe='espadas', valor='4')\n",
      "Carta(naipe='espadas', valor='5')\n",
      "Carta(naipe='espadas', valor='6')\n",
      "Carta(naipe='espadas', valor='7')\n",
      "Carta(naipe='espadas', valor='8')\n",
      "Carta(naipe='espadas', valor='9')\n",
      "Carta(naipe='espadas', valor='10')\n",
      "Carta(naipe='espadas', valor='J')\n",
      "Carta(naipe='espadas', valor='Q')\n",
      "Carta(naipe='espadas', valor='K')\n",
      "Carta(naipe='espadas', valor='A')\n"
     ]
    }
   ],
   "source": [
    "for carta in b:\n",
    "    print(carta)"
   ]
  },
  {
   "cell_type": "code",
   "execution_count": 15,
   "metadata": {},
   "outputs": [
    {
     "data": {
      "text/plain": [
       "<iterator at 0x10e3ca940>"
      ]
     },
     "execution_count": 15,
     "metadata": {},
     "output_type": "execute_result"
    }
   ],
   "source": [
    "it = iter(b)\n",
    "it"
   ]
  },
  {
   "cell_type": "code",
   "execution_count": 16,
   "metadata": {},
   "outputs": [
    {
     "data": {
      "text/plain": [
       "Carta(naipe='ouros', valor='2')"
      ]
     },
     "execution_count": 16,
     "metadata": {},
     "output_type": "execute_result"
    }
   ],
   "source": [
    "next(it)"
   ]
  },
  {
   "cell_type": "code",
   "execution_count": 17,
   "metadata": {},
   "outputs": [
    {
     "data": {
      "text/plain": [
       "Carta(naipe='ouros', valor='3')"
      ]
     },
     "execution_count": 17,
     "metadata": {},
     "output_type": "execute_result"
    }
   ],
   "source": [
    "next(it)"
   ]
  },
  {
   "cell_type": "code",
   "execution_count": 18,
   "metadata": {},
   "outputs": [
    {
     "data": {
      "text/plain": [
       "Carta(naipe='ouros', valor='4')"
      ]
     },
     "execution_count": 18,
     "metadata": {},
     "output_type": "execute_result"
    }
   ],
   "source": [
    "next(it)"
   ]
  },
  {
   "cell_type": "code",
   "execution_count": 19,
   "metadata": {},
   "outputs": [
    {
     "data": {
      "text/plain": [
       "Carta(naipe='ouros', valor='5')"
      ]
     },
     "execution_count": 19,
     "metadata": {},
     "output_type": "execute_result"
    }
   ],
   "source": [
    "next(it)"
   ]
  },
  {
   "cell_type": "code",
   "execution_count": 20,
   "metadata": {},
   "outputs": [
    {
     "data": {
      "text/plain": [
       "Carta(naipe='ouros', valor='6')"
      ]
     },
     "execution_count": 20,
     "metadata": {},
     "output_type": "execute_result"
    }
   ],
   "source": [
    "next(it)"
   ]
  },
  {
   "cell_type": "code",
   "execution_count": 21,
   "metadata": {},
   "outputs": [
    {
     "data": {
      "text/plain": [
       "'C'"
      ]
     },
     "execution_count": 21,
     "metadata": {},
     "output_type": "execute_result"
    }
   ],
   "source": [
    "from random import choice\n",
    "choice('TDC')"
   ]
  },
  {
   "cell_type": "code",
   "execution_count": 22,
   "metadata": {},
   "outputs": [
    {
     "data": {
      "text/plain": [
       "Carta(naipe='espadas', valor='3')"
      ]
     },
     "execution_count": 22,
     "metadata": {},
     "output_type": "execute_result"
    }
   ],
   "source": [
    "choice(b)"
   ]
  },
  {
   "cell_type": "code",
   "execution_count": 23,
   "metadata": {},
   "outputs": [
    {
     "data": {
      "text/plain": [
       "[4, 2, 7, 8, 5, 3, 9, 0, 6, 1]"
      ]
     },
     "execution_count": 23,
     "metadata": {},
     "output_type": "execute_result"
    }
   ],
   "source": [
    "from random import shuffle\n",
    "n = list(range(10))\n",
    "shuffle(n)\n",
    "n"
   ]
  },
  {
   "cell_type": "code",
   "execution_count": 24,
   "metadata": {},
   "outputs": [],
   "source": [
    "b = Baralho()\n",
    "shuffle(b)"
   ]
  },
  {
   "cell_type": "code",
   "execution_count": 25,
   "metadata": {},
   "outputs": [
    {
     "data": {
      "text/plain": [
       "[Carta(naipe='copas', valor='2'),\n",
       " Carta(naipe='espadas', valor='7'),\n",
       " Carta(naipe='espadas', valor='6'),\n",
       " Carta(naipe='paus', valor='9'),\n",
       " Carta(naipe='paus', valor='3')]"
      ]
     },
     "execution_count": 25,
     "metadata": {},
     "output_type": "execute_result"
    }
   ],
   "source": [
    "b[:5]"
   ]
  },
  {
   "cell_type": "markdown",
   "metadata": {},
   "source": [
    "# Fale comigo no Twitter @ramalhoorg"
   ]
  }
 ],
 "metadata": {
  "kernelspec": {
   "display_name": "Python 3",
   "language": "python",
   "name": "python3"
  },
  "language_info": {
   "codemirror_mode": {
    "name": "ipython",
    "version": 3
   },
   "file_extension": ".py",
   "mimetype": "text/x-python",
   "name": "python",
   "nbconvert_exporter": "python",
   "pygments_lexer": "ipython3",
   "version": "3.6.1"
  }
 },
 "nbformat": 4,
 "nbformat_minor": 2
}
